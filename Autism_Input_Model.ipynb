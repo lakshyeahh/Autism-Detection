{
  "cells": [
    {
      "cell_type": "code",
      "execution_count": null,
      "id": "c1a96bb9-28c7-4085-906e-e144d94376f6",
      "metadata": {
        "id": "c1a96bb9-28c7-4085-906e-e144d94376f6"
      },
      "outputs": [],
      "source": [
        "import pandas as pd\n",
        "import numpy as np\n",
        "import matplotlib.pyplot as plt\n",
        "import seaborn as sns"
      ]
    },
    {
      "cell_type": "code",
      "execution_count": null,
      "id": "65222898-0e3c-4197-a9b3-fe6786d02d53",
      "metadata": {
        "id": "65222898-0e3c-4197-a9b3-fe6786d02d53"
      },
      "outputs": [],
      "source": [
        "df = pd.read_csv(r\"/content/Toddler_Autism_dataset_July_2018.csv\")"
      ]
    },
    {
      "cell_type": "code",
      "execution_count": null,
      "id": "68e0c837-1267-49d9-83d7-cb29f1ad266c",
      "metadata": {
        "colab": {
          "base_uri": "https://localhost:8080/"
        },
        "id": "68e0c837-1267-49d9-83d7-cb29f1ad266c",
        "outputId": "b1bbb2f1-25ed-4649-f62d-e7e13081b28e"
      },
      "outputs": [
        {
          "output_type": "stream",
          "name": "stdout",
          "text": [
            "<class 'pandas.core.frame.DataFrame'>\n",
            "RangeIndex: 1054 entries, 0 to 1053\n",
            "Data columns (total 19 columns):\n",
            " #   Column                  Non-Null Count  Dtype \n",
            "---  ------                  --------------  ----- \n",
            " 0   Case_No                 1054 non-null   int64 \n",
            " 1   A1                      1054 non-null   int64 \n",
            " 2   A2                      1054 non-null   int64 \n",
            " 3   A3                      1054 non-null   int64 \n",
            " 4   A4                      1054 non-null   int64 \n",
            " 5   A5                      1054 non-null   int64 \n",
            " 6   A6                      1054 non-null   int64 \n",
            " 7   A7                      1054 non-null   int64 \n",
            " 8   A8                      1054 non-null   int64 \n",
            " 9   A9                      1054 non-null   int64 \n",
            " 10  A10                     1054 non-null   int64 \n",
            " 11  Age_Mons                1054 non-null   int64 \n",
            " 12  Qchat-10-Score          1054 non-null   int64 \n",
            " 13  Sex                     1054 non-null   object\n",
            " 14  Ethnicity               1054 non-null   object\n",
            " 15  Jaundice                1054 non-null   object\n",
            " 16  Family_mem_with_ASD     1054 non-null   object\n",
            " 17  Who completed the test  1054 non-null   object\n",
            " 18  Class/ASD Traits        1054 non-null   object\n",
            "dtypes: int64(13), object(6)\n",
            "memory usage: 156.6+ KB\n"
          ]
        }
      ],
      "source": [
        "df.info()"
      ]
    },
    {
      "cell_type": "code",
      "execution_count": null,
      "id": "a5f0ccb8-c555-4340-8a28-78b9809588a6",
      "metadata": {
        "colab": {
          "base_uri": "https://localhost:8080/",
          "height": 652
        },
        "id": "a5f0ccb8-c555-4340-8a28-78b9809588a6",
        "outputId": "355d42ee-1616-4192-bea5-92fbab5d3461"
      },
      "outputs": [
        {
          "output_type": "execute_result",
          "data": {
            "text/plain": [
              "      Case_No  Q1  Q2  Q3  Q4  Q5  Q6  Q7  Q8  Q9  Q10  Age in Months  \\\n",
              "0           1   0   0   0   0   0   0   1   1   0    1             28   \n",
              "1           2   1   1   0   0   0   1   1   0   0    0             36   \n",
              "2           3   1   0   0   0   0   0   1   1   0    1             36   \n",
              "3           4   1   1   1   1   1   1   1   1   1    1             24   \n",
              "4           5   1   1   0   1   1   1   1   1   1    1             20   \n",
              "...       ...  ..  ..  ..  ..  ..  ..  ..  ..  ..  ...            ...   \n",
              "1049     1050   0   0   0   0   0   0   0   0   0    1             24   \n",
              "1050     1051   0   0   1   1   1   0   1   0   1    0             12   \n",
              "1051     1052   1   0   1   1   1   1   1   1   1    1             18   \n",
              "1052     1053   1   0   0   0   0   0   0   1   0    1             19   \n",
              "1053     1054   1   1   0   0   1   1   0   1   1    0             24   \n",
              "\n",
              "      Score out of 10 Gender          Region Jaundice Family_mem_with_ASD  \\\n",
              "0                   3      f  middle eastern      yes                  no   \n",
              "1                   4      m  White European      yes                  no   \n",
              "2                   4      m  middle eastern      yes                  no   \n",
              "3                  10      m        Hispanic       no                  no   \n",
              "4                   9      f  White European       no                 yes   \n",
              "...               ...    ...             ...      ...                 ...   \n",
              "1049                1      f  White European       no                 yes   \n",
              "1050                5      m           black      yes                  no   \n",
              "1051                9      m  middle eastern      yes                  no   \n",
              "1052                3      m  White European       no                 yes   \n",
              "1053                6      m           asian      yes                 yes   \n",
              "\n",
              "     Who completed the test  ASD  \n",
              "0             family member   No  \n",
              "1             family member  Yes  \n",
              "2             family member  Yes  \n",
              "3             family member  Yes  \n",
              "4             family member  Yes  \n",
              "...                     ...  ...  \n",
              "1049          family member   No  \n",
              "1050          family member  Yes  \n",
              "1051          family member  Yes  \n",
              "1052          family member   No  \n",
              "1053          family member  Yes  \n",
              "\n",
              "[1054 rows x 19 columns]"
            ],
            "text/html": [
              "\n",
              "  <div id=\"df-0935b634-c774-46a8-a77f-256223776f33\" class=\"colab-df-container\">\n",
              "    <div>\n",
              "<style scoped>\n",
              "    .dataframe tbody tr th:only-of-type {\n",
              "        vertical-align: middle;\n",
              "    }\n",
              "\n",
              "    .dataframe tbody tr th {\n",
              "        vertical-align: top;\n",
              "    }\n",
              "\n",
              "    .dataframe thead th {\n",
              "        text-align: right;\n",
              "    }\n",
              "</style>\n",
              "<table border=\"1\" class=\"dataframe\">\n",
              "  <thead>\n",
              "    <tr style=\"text-align: right;\">\n",
              "      <th></th>\n",
              "      <th>Case_No</th>\n",
              "      <th>Q1</th>\n",
              "      <th>Q2</th>\n",
              "      <th>Q3</th>\n",
              "      <th>Q4</th>\n",
              "      <th>Q5</th>\n",
              "      <th>Q6</th>\n",
              "      <th>Q7</th>\n",
              "      <th>Q8</th>\n",
              "      <th>Q9</th>\n",
              "      <th>Q10</th>\n",
              "      <th>Age in Months</th>\n",
              "      <th>Score out of 10</th>\n",
              "      <th>Gender</th>\n",
              "      <th>Region</th>\n",
              "      <th>Jaundice</th>\n",
              "      <th>Family_mem_with_ASD</th>\n",
              "      <th>Who completed the test</th>\n",
              "      <th>ASD</th>\n",
              "    </tr>\n",
              "  </thead>\n",
              "  <tbody>\n",
              "    <tr>\n",
              "      <th>0</th>\n",
              "      <td>1</td>\n",
              "      <td>0</td>\n",
              "      <td>0</td>\n",
              "      <td>0</td>\n",
              "      <td>0</td>\n",
              "      <td>0</td>\n",
              "      <td>0</td>\n",
              "      <td>1</td>\n",
              "      <td>1</td>\n",
              "      <td>0</td>\n",
              "      <td>1</td>\n",
              "      <td>28</td>\n",
              "      <td>3</td>\n",
              "      <td>f</td>\n",
              "      <td>middle eastern</td>\n",
              "      <td>yes</td>\n",
              "      <td>no</td>\n",
              "      <td>family member</td>\n",
              "      <td>No</td>\n",
              "    </tr>\n",
              "    <tr>\n",
              "      <th>1</th>\n",
              "      <td>2</td>\n",
              "      <td>1</td>\n",
              "      <td>1</td>\n",
              "      <td>0</td>\n",
              "      <td>0</td>\n",
              "      <td>0</td>\n",
              "      <td>1</td>\n",
              "      <td>1</td>\n",
              "      <td>0</td>\n",
              "      <td>0</td>\n",
              "      <td>0</td>\n",
              "      <td>36</td>\n",
              "      <td>4</td>\n",
              "      <td>m</td>\n",
              "      <td>White European</td>\n",
              "      <td>yes</td>\n",
              "      <td>no</td>\n",
              "      <td>family member</td>\n",
              "      <td>Yes</td>\n",
              "    </tr>\n",
              "    <tr>\n",
              "      <th>2</th>\n",
              "      <td>3</td>\n",
              "      <td>1</td>\n",
              "      <td>0</td>\n",
              "      <td>0</td>\n",
              "      <td>0</td>\n",
              "      <td>0</td>\n",
              "      <td>0</td>\n",
              "      <td>1</td>\n",
              "      <td>1</td>\n",
              "      <td>0</td>\n",
              "      <td>1</td>\n",
              "      <td>36</td>\n",
              "      <td>4</td>\n",
              "      <td>m</td>\n",
              "      <td>middle eastern</td>\n",
              "      <td>yes</td>\n",
              "      <td>no</td>\n",
              "      <td>family member</td>\n",
              "      <td>Yes</td>\n",
              "    </tr>\n",
              "    <tr>\n",
              "      <th>3</th>\n",
              "      <td>4</td>\n",
              "      <td>1</td>\n",
              "      <td>1</td>\n",
              "      <td>1</td>\n",
              "      <td>1</td>\n",
              "      <td>1</td>\n",
              "      <td>1</td>\n",
              "      <td>1</td>\n",
              "      <td>1</td>\n",
              "      <td>1</td>\n",
              "      <td>1</td>\n",
              "      <td>24</td>\n",
              "      <td>10</td>\n",
              "      <td>m</td>\n",
              "      <td>Hispanic</td>\n",
              "      <td>no</td>\n",
              "      <td>no</td>\n",
              "      <td>family member</td>\n",
              "      <td>Yes</td>\n",
              "    </tr>\n",
              "    <tr>\n",
              "      <th>4</th>\n",
              "      <td>5</td>\n",
              "      <td>1</td>\n",
              "      <td>1</td>\n",
              "      <td>0</td>\n",
              "      <td>1</td>\n",
              "      <td>1</td>\n",
              "      <td>1</td>\n",
              "      <td>1</td>\n",
              "      <td>1</td>\n",
              "      <td>1</td>\n",
              "      <td>1</td>\n",
              "      <td>20</td>\n",
              "      <td>9</td>\n",
              "      <td>f</td>\n",
              "      <td>White European</td>\n",
              "      <td>no</td>\n",
              "      <td>yes</td>\n",
              "      <td>family member</td>\n",
              "      <td>Yes</td>\n",
              "    </tr>\n",
              "    <tr>\n",
              "      <th>...</th>\n",
              "      <td>...</td>\n",
              "      <td>...</td>\n",
              "      <td>...</td>\n",
              "      <td>...</td>\n",
              "      <td>...</td>\n",
              "      <td>...</td>\n",
              "      <td>...</td>\n",
              "      <td>...</td>\n",
              "      <td>...</td>\n",
              "      <td>...</td>\n",
              "      <td>...</td>\n",
              "      <td>...</td>\n",
              "      <td>...</td>\n",
              "      <td>...</td>\n",
              "      <td>...</td>\n",
              "      <td>...</td>\n",
              "      <td>...</td>\n",
              "      <td>...</td>\n",
              "      <td>...</td>\n",
              "    </tr>\n",
              "    <tr>\n",
              "      <th>1049</th>\n",
              "      <td>1050</td>\n",
              "      <td>0</td>\n",
              "      <td>0</td>\n",
              "      <td>0</td>\n",
              "      <td>0</td>\n",
              "      <td>0</td>\n",
              "      <td>0</td>\n",
              "      <td>0</td>\n",
              "      <td>0</td>\n",
              "      <td>0</td>\n",
              "      <td>1</td>\n",
              "      <td>24</td>\n",
              "      <td>1</td>\n",
              "      <td>f</td>\n",
              "      <td>White European</td>\n",
              "      <td>no</td>\n",
              "      <td>yes</td>\n",
              "      <td>family member</td>\n",
              "      <td>No</td>\n",
              "    </tr>\n",
              "    <tr>\n",
              "      <th>1050</th>\n",
              "      <td>1051</td>\n",
              "      <td>0</td>\n",
              "      <td>0</td>\n",
              "      <td>1</td>\n",
              "      <td>1</td>\n",
              "      <td>1</td>\n",
              "      <td>0</td>\n",
              "      <td>1</td>\n",
              "      <td>0</td>\n",
              "      <td>1</td>\n",
              "      <td>0</td>\n",
              "      <td>12</td>\n",
              "      <td>5</td>\n",
              "      <td>m</td>\n",
              "      <td>black</td>\n",
              "      <td>yes</td>\n",
              "      <td>no</td>\n",
              "      <td>family member</td>\n",
              "      <td>Yes</td>\n",
              "    </tr>\n",
              "    <tr>\n",
              "      <th>1051</th>\n",
              "      <td>1052</td>\n",
              "      <td>1</td>\n",
              "      <td>0</td>\n",
              "      <td>1</td>\n",
              "      <td>1</td>\n",
              "      <td>1</td>\n",
              "      <td>1</td>\n",
              "      <td>1</td>\n",
              "      <td>1</td>\n",
              "      <td>1</td>\n",
              "      <td>1</td>\n",
              "      <td>18</td>\n",
              "      <td>9</td>\n",
              "      <td>m</td>\n",
              "      <td>middle eastern</td>\n",
              "      <td>yes</td>\n",
              "      <td>no</td>\n",
              "      <td>family member</td>\n",
              "      <td>Yes</td>\n",
              "    </tr>\n",
              "    <tr>\n",
              "      <th>1052</th>\n",
              "      <td>1053</td>\n",
              "      <td>1</td>\n",
              "      <td>0</td>\n",
              "      <td>0</td>\n",
              "      <td>0</td>\n",
              "      <td>0</td>\n",
              "      <td>0</td>\n",
              "      <td>0</td>\n",
              "      <td>1</td>\n",
              "      <td>0</td>\n",
              "      <td>1</td>\n",
              "      <td>19</td>\n",
              "      <td>3</td>\n",
              "      <td>m</td>\n",
              "      <td>White European</td>\n",
              "      <td>no</td>\n",
              "      <td>yes</td>\n",
              "      <td>family member</td>\n",
              "      <td>No</td>\n",
              "    </tr>\n",
              "    <tr>\n",
              "      <th>1053</th>\n",
              "      <td>1054</td>\n",
              "      <td>1</td>\n",
              "      <td>1</td>\n",
              "      <td>0</td>\n",
              "      <td>0</td>\n",
              "      <td>1</td>\n",
              "      <td>1</td>\n",
              "      <td>0</td>\n",
              "      <td>1</td>\n",
              "      <td>1</td>\n",
              "      <td>0</td>\n",
              "      <td>24</td>\n",
              "      <td>6</td>\n",
              "      <td>m</td>\n",
              "      <td>asian</td>\n",
              "      <td>yes</td>\n",
              "      <td>yes</td>\n",
              "      <td>family member</td>\n",
              "      <td>Yes</td>\n",
              "    </tr>\n",
              "  </tbody>\n",
              "</table>\n",
              "<p>1054 rows × 19 columns</p>\n",
              "</div>\n",
              "    <div class=\"colab-df-buttons\">\n",
              "\n",
              "  <div class=\"colab-df-container\">\n",
              "    <button class=\"colab-df-convert\" onclick=\"convertToInteractive('df-0935b634-c774-46a8-a77f-256223776f33')\"\n",
              "            title=\"Convert this dataframe to an interactive table.\"\n",
              "            style=\"display:none;\">\n",
              "\n",
              "  <svg xmlns=\"http://www.w3.org/2000/svg\" height=\"24px\" viewBox=\"0 -960 960 960\">\n",
              "    <path d=\"M120-120v-720h720v720H120Zm60-500h600v-160H180v160Zm220 220h160v-160H400v160Zm0 220h160v-160H400v160ZM180-400h160v-160H180v160Zm440 0h160v-160H620v160ZM180-180h160v-160H180v160Zm440 0h160v-160H620v160Z\"/>\n",
              "  </svg>\n",
              "    </button>\n",
              "\n",
              "  <style>\n",
              "    .colab-df-container {\n",
              "      display:flex;\n",
              "      gap: 12px;\n",
              "    }\n",
              "\n",
              "    .colab-df-convert {\n",
              "      background-color: #E8F0FE;\n",
              "      border: none;\n",
              "      border-radius: 50%;\n",
              "      cursor: pointer;\n",
              "      display: none;\n",
              "      fill: #1967D2;\n",
              "      height: 32px;\n",
              "      padding: 0 0 0 0;\n",
              "      width: 32px;\n",
              "    }\n",
              "\n",
              "    .colab-df-convert:hover {\n",
              "      background-color: #E2EBFA;\n",
              "      box-shadow: 0px 1px 2px rgba(60, 64, 67, 0.3), 0px 1px 3px 1px rgba(60, 64, 67, 0.15);\n",
              "      fill: #174EA6;\n",
              "    }\n",
              "\n",
              "    .colab-df-buttons div {\n",
              "      margin-bottom: 4px;\n",
              "    }\n",
              "\n",
              "    [theme=dark] .colab-df-convert {\n",
              "      background-color: #3B4455;\n",
              "      fill: #D2E3FC;\n",
              "    }\n",
              "\n",
              "    [theme=dark] .colab-df-convert:hover {\n",
              "      background-color: #434B5C;\n",
              "      box-shadow: 0px 1px 3px 1px rgba(0, 0, 0, 0.15);\n",
              "      filter: drop-shadow(0px 1px 2px rgba(0, 0, 0, 0.3));\n",
              "      fill: #FFFFFF;\n",
              "    }\n",
              "  </style>\n",
              "\n",
              "    <script>\n",
              "      const buttonEl =\n",
              "        document.querySelector('#df-0935b634-c774-46a8-a77f-256223776f33 button.colab-df-convert');\n",
              "      buttonEl.style.display =\n",
              "        google.colab.kernel.accessAllowed ? 'block' : 'none';\n",
              "\n",
              "      async function convertToInteractive(key) {\n",
              "        const element = document.querySelector('#df-0935b634-c774-46a8-a77f-256223776f33');\n",
              "        const dataTable =\n",
              "          await google.colab.kernel.invokeFunction('convertToInteractive',\n",
              "                                                    [key], {});\n",
              "        if (!dataTable) return;\n",
              "\n",
              "        const docLinkHtml = 'Like what you see? Visit the ' +\n",
              "          '<a target=\"_blank\" href=https://colab.research.google.com/notebooks/data_table.ipynb>data table notebook</a>'\n",
              "          + ' to learn more about interactive tables.';\n",
              "        element.innerHTML = '';\n",
              "        dataTable['output_type'] = 'display_data';\n",
              "        await google.colab.output.renderOutput(dataTable, element);\n",
              "        const docLink = document.createElement('div');\n",
              "        docLink.innerHTML = docLinkHtml;\n",
              "        element.appendChild(docLink);\n",
              "      }\n",
              "    </script>\n",
              "  </div>\n",
              "\n",
              "\n",
              "<div id=\"df-f23686b0-c6b7-4681-8223-d1afbabd89b8\">\n",
              "  <button class=\"colab-df-quickchart\" onclick=\"quickchart('df-f23686b0-c6b7-4681-8223-d1afbabd89b8')\"\n",
              "            title=\"Suggest charts\"\n",
              "            style=\"display:none;\">\n",
              "\n",
              "<svg xmlns=\"http://www.w3.org/2000/svg\" height=\"24px\"viewBox=\"0 0 24 24\"\n",
              "     width=\"24px\">\n",
              "    <g>\n",
              "        <path d=\"M19 3H5c-1.1 0-2 .9-2 2v14c0 1.1.9 2 2 2h14c1.1 0 2-.9 2-2V5c0-1.1-.9-2-2-2zM9 17H7v-7h2v7zm4 0h-2V7h2v10zm4 0h-2v-4h2v4z\"/>\n",
              "    </g>\n",
              "</svg>\n",
              "  </button>\n",
              "\n",
              "<style>\n",
              "  .colab-df-quickchart {\n",
              "      --bg-color: #E8F0FE;\n",
              "      --fill-color: #1967D2;\n",
              "      --hover-bg-color: #E2EBFA;\n",
              "      --hover-fill-color: #174EA6;\n",
              "      --disabled-fill-color: #AAA;\n",
              "      --disabled-bg-color: #DDD;\n",
              "  }\n",
              "\n",
              "  [theme=dark] .colab-df-quickchart {\n",
              "      --bg-color: #3B4455;\n",
              "      --fill-color: #D2E3FC;\n",
              "      --hover-bg-color: #434B5C;\n",
              "      --hover-fill-color: #FFFFFF;\n",
              "      --disabled-bg-color: #3B4455;\n",
              "      --disabled-fill-color: #666;\n",
              "  }\n",
              "\n",
              "  .colab-df-quickchart {\n",
              "    background-color: var(--bg-color);\n",
              "    border: none;\n",
              "    border-radius: 50%;\n",
              "    cursor: pointer;\n",
              "    display: none;\n",
              "    fill: var(--fill-color);\n",
              "    height: 32px;\n",
              "    padding: 0;\n",
              "    width: 32px;\n",
              "  }\n",
              "\n",
              "  .colab-df-quickchart:hover {\n",
              "    background-color: var(--hover-bg-color);\n",
              "    box-shadow: 0 1px 2px rgba(60, 64, 67, 0.3), 0 1px 3px 1px rgba(60, 64, 67, 0.15);\n",
              "    fill: var(--button-hover-fill-color);\n",
              "  }\n",
              "\n",
              "  .colab-df-quickchart-complete:disabled,\n",
              "  .colab-df-quickchart-complete:disabled:hover {\n",
              "    background-color: var(--disabled-bg-color);\n",
              "    fill: var(--disabled-fill-color);\n",
              "    box-shadow: none;\n",
              "  }\n",
              "\n",
              "  .colab-df-spinner {\n",
              "    border: 2px solid var(--fill-color);\n",
              "    border-color: transparent;\n",
              "    border-bottom-color: var(--fill-color);\n",
              "    animation:\n",
              "      spin 1s steps(1) infinite;\n",
              "  }\n",
              "\n",
              "  @keyframes spin {\n",
              "    0% {\n",
              "      border-color: transparent;\n",
              "      border-bottom-color: var(--fill-color);\n",
              "      border-left-color: var(--fill-color);\n",
              "    }\n",
              "    20% {\n",
              "      border-color: transparent;\n",
              "      border-left-color: var(--fill-color);\n",
              "      border-top-color: var(--fill-color);\n",
              "    }\n",
              "    30% {\n",
              "      border-color: transparent;\n",
              "      border-left-color: var(--fill-color);\n",
              "      border-top-color: var(--fill-color);\n",
              "      border-right-color: var(--fill-color);\n",
              "    }\n",
              "    40% {\n",
              "      border-color: transparent;\n",
              "      border-right-color: var(--fill-color);\n",
              "      border-top-color: var(--fill-color);\n",
              "    }\n",
              "    60% {\n",
              "      border-color: transparent;\n",
              "      border-right-color: var(--fill-color);\n",
              "    }\n",
              "    80% {\n",
              "      border-color: transparent;\n",
              "      border-right-color: var(--fill-color);\n",
              "      border-bottom-color: var(--fill-color);\n",
              "    }\n",
              "    90% {\n",
              "      border-color: transparent;\n",
              "      border-bottom-color: var(--fill-color);\n",
              "    }\n",
              "  }\n",
              "</style>\n",
              "\n",
              "  <script>\n",
              "    async function quickchart(key) {\n",
              "      const quickchartButtonEl =\n",
              "        document.querySelector('#' + key + ' button');\n",
              "      quickchartButtonEl.disabled = true;  // To prevent multiple clicks.\n",
              "      quickchartButtonEl.classList.add('colab-df-spinner');\n",
              "      try {\n",
              "        const charts = await google.colab.kernel.invokeFunction(\n",
              "            'suggestCharts', [key], {});\n",
              "      } catch (error) {\n",
              "        console.error('Error during call to suggestCharts:', error);\n",
              "      }\n",
              "      quickchartButtonEl.classList.remove('colab-df-spinner');\n",
              "      quickchartButtonEl.classList.add('colab-df-quickchart-complete');\n",
              "    }\n",
              "    (() => {\n",
              "      let quickchartButtonEl =\n",
              "        document.querySelector('#df-f23686b0-c6b7-4681-8223-d1afbabd89b8 button');\n",
              "      quickchartButtonEl.style.display =\n",
              "        google.colab.kernel.accessAllowed ? 'block' : 'none';\n",
              "    })();\n",
              "  </script>\n",
              "</div>\n",
              "\n",
              "  <div id=\"id_3670cd54-bb5d-4d19-ae6f-13d1710f8409\">\n",
              "    <style>\n",
              "      .colab-df-generate {\n",
              "        background-color: #E8F0FE;\n",
              "        border: none;\n",
              "        border-radius: 50%;\n",
              "        cursor: pointer;\n",
              "        display: none;\n",
              "        fill: #1967D2;\n",
              "        height: 32px;\n",
              "        padding: 0 0 0 0;\n",
              "        width: 32px;\n",
              "      }\n",
              "\n",
              "      .colab-df-generate:hover {\n",
              "        background-color: #E2EBFA;\n",
              "        box-shadow: 0px 1px 2px rgba(60, 64, 67, 0.3), 0px 1px 3px 1px rgba(60, 64, 67, 0.15);\n",
              "        fill: #174EA6;\n",
              "      }\n",
              "\n",
              "      [theme=dark] .colab-df-generate {\n",
              "        background-color: #3B4455;\n",
              "        fill: #D2E3FC;\n",
              "      }\n",
              "\n",
              "      [theme=dark] .colab-df-generate:hover {\n",
              "        background-color: #434B5C;\n",
              "        box-shadow: 0px 1px 3px 1px rgba(0, 0, 0, 0.15);\n",
              "        filter: drop-shadow(0px 1px 2px rgba(0, 0, 0, 0.3));\n",
              "        fill: #FFFFFF;\n",
              "      }\n",
              "    </style>\n",
              "    <button class=\"colab-df-generate\" onclick=\"generateWithVariable('df')\"\n",
              "            title=\"Generate code using this dataframe.\"\n",
              "            style=\"display:none;\">\n",
              "\n",
              "  <svg xmlns=\"http://www.w3.org/2000/svg\" height=\"24px\"viewBox=\"0 0 24 24\"\n",
              "       width=\"24px\">\n",
              "    <path d=\"M7,19H8.4L18.45,9,17,7.55,7,17.6ZM5,21V16.75L18.45,3.32a2,2,0,0,1,2.83,0l1.4,1.43a1.91,1.91,0,0,1,.58,1.4,1.91,1.91,0,0,1-.58,1.4L9.25,21ZM18.45,9,17,7.55Zm-12,3A5.31,5.31,0,0,0,4.9,8.1,5.31,5.31,0,0,0,1,6.5,5.31,5.31,0,0,0,4.9,4.9,5.31,5.31,0,0,0,6.5,1,5.31,5.31,0,0,0,8.1,4.9,5.31,5.31,0,0,0,12,6.5,5.46,5.46,0,0,0,6.5,12Z\"/>\n",
              "  </svg>\n",
              "    </button>\n",
              "    <script>\n",
              "      (() => {\n",
              "      const buttonEl =\n",
              "        document.querySelector('#id_3670cd54-bb5d-4d19-ae6f-13d1710f8409 button.colab-df-generate');\n",
              "      buttonEl.style.display =\n",
              "        google.colab.kernel.accessAllowed ? 'block' : 'none';\n",
              "\n",
              "      buttonEl.onclick = () => {\n",
              "        google.colab.notebook.generateWithVariable('df');\n",
              "      }\n",
              "      })();\n",
              "    </script>\n",
              "  </div>\n",
              "\n",
              "    </div>\n",
              "  </div>\n"
            ],
            "application/vnd.google.colaboratory.intrinsic+json": {
              "type": "dataframe",
              "variable_name": "df",
              "summary": "{\n  \"name\": \"df\",\n  \"rows\": 1054,\n  \"fields\": [\n    {\n      \"column\": \"Case_No\",\n      \"properties\": {\n        \"dtype\": \"number\",\n        \"std\": 304,\n        \"min\": 1,\n        \"max\": 1054,\n        \"num_unique_values\": 1054,\n        \"samples\": [\n          261,\n          1026,\n          846\n        ],\n        \"semantic_type\": \"\",\n        \"description\": \"\"\n      }\n    },\n    {\n      \"column\": \"Q1\",\n      \"properties\": {\n        \"dtype\": \"number\",\n        \"std\": 0,\n        \"min\": 0,\n        \"max\": 1,\n        \"num_unique_values\": 2,\n        \"samples\": [\n          1,\n          0\n        ],\n        \"semantic_type\": \"\",\n        \"description\": \"\"\n      }\n    },\n    {\n      \"column\": \"Q2\",\n      \"properties\": {\n        \"dtype\": \"number\",\n        \"std\": 0,\n        \"min\": 0,\n        \"max\": 1,\n        \"num_unique_values\": 2,\n        \"samples\": [\n          1,\n          0\n        ],\n        \"semantic_type\": \"\",\n        \"description\": \"\"\n      }\n    },\n    {\n      \"column\": \"Q3\",\n      \"properties\": {\n        \"dtype\": \"number\",\n        \"std\": 0,\n        \"min\": 0,\n        \"max\": 1,\n        \"num_unique_values\": 2,\n        \"samples\": [\n          1,\n          0\n        ],\n        \"semantic_type\": \"\",\n        \"description\": \"\"\n      }\n    },\n    {\n      \"column\": \"Q4\",\n      \"properties\": {\n        \"dtype\": \"number\",\n        \"std\": 0,\n        \"min\": 0,\n        \"max\": 1,\n        \"num_unique_values\": 2,\n        \"samples\": [\n          1,\n          0\n        ],\n        \"semantic_type\": \"\",\n        \"description\": \"\"\n      }\n    },\n    {\n      \"column\": \"Q5\",\n      \"properties\": {\n        \"dtype\": \"number\",\n        \"std\": 0,\n        \"min\": 0,\n        \"max\": 1,\n        \"num_unique_values\": 2,\n        \"samples\": [\n          1,\n          0\n        ],\n        \"semantic_type\": \"\",\n        \"description\": \"\"\n      }\n    },\n    {\n      \"column\": \"Q6\",\n      \"properties\": {\n        \"dtype\": \"number\",\n        \"std\": 0,\n        \"min\": 0,\n        \"max\": 1,\n        \"num_unique_values\": 2,\n        \"samples\": [\n          1,\n          0\n        ],\n        \"semantic_type\": \"\",\n        \"description\": \"\"\n      }\n    },\n    {\n      \"column\": \"Q7\",\n      \"properties\": {\n        \"dtype\": \"number\",\n        \"std\": 0,\n        \"min\": 0,\n        \"max\": 1,\n        \"num_unique_values\": 2,\n        \"samples\": [\n          0,\n          1\n        ],\n        \"semantic_type\": \"\",\n        \"description\": \"\"\n      }\n    },\n    {\n      \"column\": \"Q8\",\n      \"properties\": {\n        \"dtype\": \"number\",\n        \"std\": 0,\n        \"min\": 0,\n        \"max\": 1,\n        \"num_unique_values\": 2,\n        \"samples\": [\n          0,\n          1\n        ],\n        \"semantic_type\": \"\",\n        \"description\": \"\"\n      }\n    },\n    {\n      \"column\": \"Q9\",\n      \"properties\": {\n        \"dtype\": \"number\",\n        \"std\": 0,\n        \"min\": 0,\n        \"max\": 1,\n        \"num_unique_values\": 2,\n        \"samples\": [\n          1,\n          0\n        ],\n        \"semantic_type\": \"\",\n        \"description\": \"\"\n      }\n    },\n    {\n      \"column\": \"Q10\",\n      \"properties\": {\n        \"dtype\": \"number\",\n        \"std\": 0,\n        \"min\": 0,\n        \"max\": 1,\n        \"num_unique_values\": 2,\n        \"samples\": [\n          0,\n          1\n        ],\n        \"semantic_type\": \"\",\n        \"description\": \"\"\n      }\n    },\n    {\n      \"column\": \"Age in Months\",\n      \"properties\": {\n        \"dtype\": \"number\",\n        \"std\": 7,\n        \"min\": 12,\n        \"max\": 36,\n        \"num_unique_values\": 25,\n        \"samples\": [\n          25,\n          14\n        ],\n        \"semantic_type\": \"\",\n        \"description\": \"\"\n      }\n    },\n    {\n      \"column\": \"Score out of 10\",\n      \"properties\": {\n        \"dtype\": \"number\",\n        \"std\": 2,\n        \"min\": 0,\n        \"max\": 10,\n        \"num_unique_values\": 11,\n        \"samples\": [\n          5,\n          3\n        ],\n        \"semantic_type\": \"\",\n        \"description\": \"\"\n      }\n    },\n    {\n      \"column\": \"Gender\",\n      \"properties\": {\n        \"dtype\": \"category\",\n        \"num_unique_values\": 2,\n        \"samples\": [\n          \"m\",\n          \"f\"\n        ],\n        \"semantic_type\": \"\",\n        \"description\": \"\"\n      }\n    },\n    {\n      \"column\": \"Region\",\n      \"properties\": {\n        \"dtype\": \"category\",\n        \"num_unique_values\": 11,\n        \"samples\": [\n          \"south asian\",\n          \"middle eastern\"\n        ],\n        \"semantic_type\": \"\",\n        \"description\": \"\"\n      }\n    },\n    {\n      \"column\": \"Jaundice\",\n      \"properties\": {\n        \"dtype\": \"category\",\n        \"num_unique_values\": 2,\n        \"samples\": [\n          \"no\",\n          \"yes\"\n        ],\n        \"semantic_type\": \"\",\n        \"description\": \"\"\n      }\n    },\n    {\n      \"column\": \"Family_mem_with_ASD\",\n      \"properties\": {\n        \"dtype\": \"category\",\n        \"num_unique_values\": 2,\n        \"samples\": [\n          \"yes\",\n          \"no\"\n        ],\n        \"semantic_type\": \"\",\n        \"description\": \"\"\n      }\n    },\n    {\n      \"column\": \"Who completed the test\",\n      \"properties\": {\n        \"dtype\": \"category\",\n        \"num_unique_values\": 5,\n        \"samples\": [\n          \"Health Care Professional\",\n          \"Others\"\n        ],\n        \"semantic_type\": \"\",\n        \"description\": \"\"\n      }\n    },\n    {\n      \"column\": \"ASD\",\n      \"properties\": {\n        \"dtype\": \"category\",\n        \"num_unique_values\": 2,\n        \"samples\": [\n          \"Yes\",\n          \"No\"\n        ],\n        \"semantic_type\": \"\",\n        \"description\": \"\"\n      }\n    }\n  ]\n}"
            }
          },
          "metadata": {},
          "execution_count": 4
        }
      ],
      "source": [
        "df = df.rename(columns = {'Class/ASD Traits ' : 'ASD'})\n",
        "df = df.rename(columns = {'A1' : 'Q1'})\n",
        "df = df.rename(columns = {'A2' : 'Q2'})\n",
        "df = df.rename(columns = {'A3' : 'Q3'})\n",
        "df = df.rename(columns = {'A4' : 'Q4'})\n",
        "df = df.rename(columns = {'A5' : 'Q5'})\n",
        "df = df.rename(columns = {'A6' : 'Q6'})\n",
        "df = df.rename(columns = {'A7' : 'Q7'})\n",
        "df = df.rename(columns = {'A8' : 'Q8'})\n",
        "df = df.rename(columns = {'A9' : 'Q9'})\n",
        "df = df.rename(columns = {'A10' : 'Q10'})\n",
        "df = df.rename(columns = {'Age_Mons' : 'Age in Months'})\n",
        "df = df.rename(columns = {'Sex' : 'Gender'})\n",
        "df = df.rename(columns = {'Qchat-10-Score' : 'Score out of 10'})\n",
        "df = df.rename(columns = {'Ethnicity' : 'Region'})\n",
        "df"
      ]
    },
    {
      "cell_type": "code",
      "execution_count": null,
      "id": "56680621-b09c-4bd0-8037-00f1366bdd75",
      "metadata": {
        "id": "56680621-b09c-4bd0-8037-00f1366bdd75"
      },
      "outputs": [],
      "source": [
        "x = df.drop('Case_No' , axis = 1)\n",
        "x = x.drop('ASD', axis = 1)\n",
        "y = df['ASD']"
      ]
    },
    {
      "cell_type": "code",
      "execution_count": null,
      "id": "19e408f1-a241-4ede-a863-a6f4b48598b7",
      "metadata": {
        "colab": {
          "base_uri": "https://localhost:8080/"
        },
        "id": "19e408f1-a241-4ede-a863-a6f4b48598b7",
        "outputId": "344c79a4-63d1-407f-fe24-a2baddf2734f"
      },
      "outputs": [
        {
          "output_type": "execute_result",
          "data": {
            "text/plain": [
              "((1054, 17), (1054,))"
            ]
          },
          "metadata": {},
          "execution_count": 6
        }
      ],
      "source": [
        "x.shape, y.shape"
      ]
    },
    {
      "cell_type": "code",
      "execution_count": null,
      "id": "b02c2fea-86df-4f27-8496-4a941729bb12",
      "metadata": {
        "id": "b02c2fea-86df-4f27-8496-4a941729bb12"
      },
      "outputs": [],
      "source": [
        "from sklearn.model_selection import train_test_split\n",
        "x_train, x_test, y_train, y_test = train_test_split(x, y, test_size = 0.2, random_state = 36)"
      ]
    },
    {
      "cell_type": "code",
      "execution_count": null,
      "id": "e94e4dc3-7f4f-42e7-86e2-d8c7f6c6b22f",
      "metadata": {
        "colab": {
          "base_uri": "https://localhost:8080/"
        },
        "id": "e94e4dc3-7f4f-42e7-86e2-d8c7f6c6b22f",
        "outputId": "4b6133fc-c366-486f-e7bb-7333c0c66270"
      },
      "outputs": [
        {
          "output_type": "execute_result",
          "data": {
            "text/plain": [
              "Index(['Gender', 'Region', 'Jaundice', 'Family_mem_with_ASD',\n",
              "       'Who completed the test'],\n",
              "      dtype='object')"
            ]
          },
          "metadata": {},
          "execution_count": 8
        }
      ],
      "source": [
        "obj_cols = x_train.select_dtypes(include = 'object').columns\n",
        "obj_cols"
      ]
    },
    {
      "cell_type": "code",
      "execution_count": null,
      "id": "0773180c-663e-4390-bec9-91caea98021f",
      "metadata": {
        "colab": {
          "base_uri": "https://localhost:8080/"
        },
        "id": "0773180c-663e-4390-bec9-91caea98021f",
        "outputId": "2e472649-971c-4d81-8706-9f36d3879877"
      },
      "outputs": [
        {
          "output_type": "execute_result",
          "data": {
            "text/plain": [
              "Index(['Q1', 'Q2', 'Q3', 'Q4', 'Q5', 'Q6', 'Q7', 'Q8', 'Q9', 'Q10',\n",
              "       'Age in Months', 'Score out of 10'],\n",
              "      dtype='object')"
            ]
          },
          "metadata": {},
          "execution_count": 9
        }
      ],
      "source": [
        "float_cols = x_train.select_dtypes(include = 'int64').columns\n",
        "float_cols"
      ]
    },
    {
      "cell_type": "code",
      "execution_count": null,
      "id": "920d90a8-0201-4b61-9a00-4181c1cb566e",
      "metadata": {
        "colab": {
          "base_uri": "https://localhost:8080/",
          "height": 74
        },
        "id": "920d90a8-0201-4b61-9a00-4181c1cb566e",
        "outputId": "d69140f5-7dbb-4450-d9b0-3231c71c9aa3"
      },
      "outputs": [
        {
          "output_type": "execute_result",
          "data": {
            "text/plain": [
              "LabelEncoder()"
            ],
            "text/html": [
              "<style>#sk-container-id-1 {color: black;background-color: white;}#sk-container-id-1 pre{padding: 0;}#sk-container-id-1 div.sk-toggleable {background-color: white;}#sk-container-id-1 label.sk-toggleable__label {cursor: pointer;display: block;width: 100%;margin-bottom: 0;padding: 0.3em;box-sizing: border-box;text-align: center;}#sk-container-id-1 label.sk-toggleable__label-arrow:before {content: \"▸\";float: left;margin-right: 0.25em;color: #696969;}#sk-container-id-1 label.sk-toggleable__label-arrow:hover:before {color: black;}#sk-container-id-1 div.sk-estimator:hover label.sk-toggleable__label-arrow:before {color: black;}#sk-container-id-1 div.sk-toggleable__content {max-height: 0;max-width: 0;overflow: hidden;text-align: left;background-color: #f0f8ff;}#sk-container-id-1 div.sk-toggleable__content pre {margin: 0.2em;color: black;border-radius: 0.25em;background-color: #f0f8ff;}#sk-container-id-1 input.sk-toggleable__control:checked~div.sk-toggleable__content {max-height: 200px;max-width: 100%;overflow: auto;}#sk-container-id-1 input.sk-toggleable__control:checked~label.sk-toggleable__label-arrow:before {content: \"▾\";}#sk-container-id-1 div.sk-estimator input.sk-toggleable__control:checked~label.sk-toggleable__label {background-color: #d4ebff;}#sk-container-id-1 div.sk-label input.sk-toggleable__control:checked~label.sk-toggleable__label {background-color: #d4ebff;}#sk-container-id-1 input.sk-hidden--visually {border: 0;clip: rect(1px 1px 1px 1px);clip: rect(1px, 1px, 1px, 1px);height: 1px;margin: -1px;overflow: hidden;padding: 0;position: absolute;width: 1px;}#sk-container-id-1 div.sk-estimator {font-family: monospace;background-color: #f0f8ff;border: 1px dotted black;border-radius: 0.25em;box-sizing: border-box;margin-bottom: 0.5em;}#sk-container-id-1 div.sk-estimator:hover {background-color: #d4ebff;}#sk-container-id-1 div.sk-parallel-item::after {content: \"\";width: 100%;border-bottom: 1px solid gray;flex-grow: 1;}#sk-container-id-1 div.sk-label:hover label.sk-toggleable__label {background-color: #d4ebff;}#sk-container-id-1 div.sk-serial::before {content: \"\";position: absolute;border-left: 1px solid gray;box-sizing: border-box;top: 0;bottom: 0;left: 50%;z-index: 0;}#sk-container-id-1 div.sk-serial {display: flex;flex-direction: column;align-items: center;background-color: white;padding-right: 0.2em;padding-left: 0.2em;position: relative;}#sk-container-id-1 div.sk-item {position: relative;z-index: 1;}#sk-container-id-1 div.sk-parallel {display: flex;align-items: stretch;justify-content: center;background-color: white;position: relative;}#sk-container-id-1 div.sk-item::before, #sk-container-id-1 div.sk-parallel-item::before {content: \"\";position: absolute;border-left: 1px solid gray;box-sizing: border-box;top: 0;bottom: 0;left: 50%;z-index: -1;}#sk-container-id-1 div.sk-parallel-item {display: flex;flex-direction: column;z-index: 1;position: relative;background-color: white;}#sk-container-id-1 div.sk-parallel-item:first-child::after {align-self: flex-end;width: 50%;}#sk-container-id-1 div.sk-parallel-item:last-child::after {align-self: flex-start;width: 50%;}#sk-container-id-1 div.sk-parallel-item:only-child::after {width: 0;}#sk-container-id-1 div.sk-dashed-wrapped {border: 1px dashed gray;margin: 0 0.4em 0.5em 0.4em;box-sizing: border-box;padding-bottom: 0.4em;background-color: white;}#sk-container-id-1 div.sk-label label {font-family: monospace;font-weight: bold;display: inline-block;line-height: 1.2em;}#sk-container-id-1 div.sk-label-container {text-align: center;}#sk-container-id-1 div.sk-container {/* jupyter's `normalize.less` sets `[hidden] { display: none; }` but bootstrap.min.css set `[hidden] { display: none !important; }` so we also need the `!important` here to be able to override the default hidden behavior on the sphinx rendered scikit-learn.org. See: https://github.com/scikit-learn/scikit-learn/issues/21755 */display: inline-block !important;position: relative;}#sk-container-id-1 div.sk-text-repr-fallback {display: none;}</style><div id=\"sk-container-id-1\" class=\"sk-top-container\"><div class=\"sk-text-repr-fallback\"><pre>LabelEncoder()</pre><b>In a Jupyter environment, please rerun this cell to show the HTML representation or trust the notebook. <br />On GitHub, the HTML representation is unable to render, please try loading this page with nbviewer.org.</b></div><div class=\"sk-container\" hidden><div class=\"sk-item\"><div class=\"sk-estimator sk-toggleable\"><input class=\"sk-toggleable__control sk-hidden--visually\" id=\"sk-estimator-id-1\" type=\"checkbox\" checked><label for=\"sk-estimator-id-1\" class=\"sk-toggleable__label sk-toggleable__label-arrow\">LabelEncoder</label><div class=\"sk-toggleable__content\"><pre>LabelEncoder()</pre></div></div></div></div></div>"
            ]
          },
          "metadata": {},
          "execution_count": 10
        }
      ],
      "source": [
        "from sklearn.preprocessing import LabelEncoder\n",
        "le = LabelEncoder()\n",
        "\n",
        "le.fit(y_train)"
      ]
    },
    {
      "cell_type": "code",
      "execution_count": null,
      "id": "16f1d680-3b17-4e47-ad19-33efefb9f4b0",
      "metadata": {
        "id": "16f1d680-3b17-4e47-ad19-33efefb9f4b0"
      },
      "outputs": [],
      "source": [
        "y_train_processed = le.transform(y_train)\n",
        "y_test_processed = le.transform(y_test)"
      ]
    },
    {
      "cell_type": "code",
      "execution_count": null,
      "id": "ae7e21cc-5f7d-45b8-a63c-697921a5e764",
      "metadata": {
        "colab": {
          "base_uri": "https://localhost:8080/"
        },
        "id": "ae7e21cc-5f7d-45b8-a63c-697921a5e764",
        "outputId": "4efcd04e-1c27-47f4-eb8f-87f2128090c6"
      },
      "outputs": [
        {
          "output_type": "execute_result",
          "data": {
            "text/plain": [
              "array([1, 1, 1, 1, 1, 1, 0, 1, 1, 0, 1, 1, 0, 1, 0, 1, 0, 0, 1, 1, 1, 1,\n",
              "       1, 1, 0, 1, 0, 0, 1, 1, 1, 0, 1, 0, 1, 1, 0, 1, 1, 1, 1, 0, 1, 0,\n",
              "       1, 1, 1, 0, 1, 1, 1, 1, 1, 1, 1, 1, 1, 1, 1, 1, 1, 1, 1, 1, 0, 1,\n",
              "       1, 1, 1, 0, 1, 1, 1, 1, 0, 1, 1, 0, 1, 1, 1, 1, 1, 1, 1, 1, 1, 0,\n",
              "       1, 1, 0, 1, 1, 1, 1, 0, 0, 1, 1, 0, 1, 1, 0, 1, 0, 0, 0, 0, 1, 0,\n",
              "       1, 0, 0, 1, 1, 0, 1, 1, 1, 0, 1, 1, 1, 1, 1, 1, 1, 0, 0, 0, 1, 1,\n",
              "       1, 1, 1, 1, 0, 1, 1, 0, 0, 0, 1, 1, 1, 1, 1, 1, 1, 1, 1, 1, 0, 1,\n",
              "       1, 1, 1, 1, 1, 1, 1, 0, 1, 0, 1, 1, 1, 1, 1, 1, 0, 1, 0, 1, 1, 1,\n",
              "       1, 1, 0, 1, 1, 1, 0, 0, 1, 1, 1, 1, 0, 1, 1, 0, 0, 1, 1, 1, 1, 0,\n",
              "       1, 1, 1, 1, 1, 1, 1, 0, 1, 1, 1, 0, 0, 1, 0, 1, 1, 0, 1, 1, 1, 1,\n",
              "       1, 1, 1, 0, 0, 1, 1, 1, 0, 0, 1, 0, 1, 0, 0, 1, 0, 1, 1, 1, 1, 0,\n",
              "       1, 1, 0, 1, 1, 0, 0, 1, 0, 0, 1, 1, 1, 0, 1, 0, 1, 1, 1, 0, 0, 1,\n",
              "       1, 1, 1, 1, 1, 0, 1, 1, 1, 1, 0, 0, 0, 1, 0, 1, 1, 0, 1, 1, 1, 1,\n",
              "       0, 1, 0, 0, 1, 0, 1, 0, 1, 0, 0, 1, 1, 1, 1, 1, 0, 1, 1, 1, 1, 1,\n",
              "       1, 1, 0, 0, 1, 1, 1, 0, 0, 1, 0, 1, 1, 1, 1, 1, 1, 0, 0, 1, 1, 0,\n",
              "       1, 1, 1, 1, 0, 1, 0, 1, 1, 0, 1, 1, 0, 1, 0, 0, 0, 1, 1, 1, 0, 0,\n",
              "       0, 1, 1, 1, 1, 1, 1, 1, 1, 1, 0, 1, 1, 0, 1, 1, 0, 1, 1, 1, 1, 0,\n",
              "       0, 1, 1, 1, 1, 1, 1, 0, 1, 0, 1, 1, 1, 1, 1, 0, 1, 1, 1, 1, 1, 0,\n",
              "       0, 1, 1, 1, 1, 1, 1, 0, 1, 0, 0, 1, 1, 0, 1, 1, 1, 1, 0, 1, 1, 1,\n",
              "       1, 1, 1, 0, 1, 1, 1, 0, 1, 0, 0, 1, 1, 0, 1, 0, 0, 1, 1, 0, 1, 1,\n",
              "       1, 1, 1, 1, 1, 0, 1, 1, 1, 1, 1, 1, 1, 1, 1, 1, 1, 1, 1, 1, 1, 1,\n",
              "       1, 1, 0, 0, 1, 1, 1, 0, 1, 1, 1, 0, 1, 0, 0, 0, 1, 1, 0, 1, 0, 0,\n",
              "       0, 1, 0, 1, 0, 0, 1, 1, 1, 1, 0, 0, 1, 1, 0, 1, 0, 1, 0, 1, 1, 0,\n",
              "       1, 1, 1, 1, 0, 1, 1, 0, 1, 1, 1, 0, 0, 1, 1, 1, 0, 1, 1, 0, 0, 1,\n",
              "       1, 1, 0, 1, 1, 1, 1, 1, 1, 0, 1, 1, 1, 1, 1, 1, 1, 1, 1, 1, 0, 1,\n",
              "       0, 1, 0, 0, 1, 1, 0, 0, 1, 1, 1, 0, 1, 0, 1, 1, 1, 1, 1, 0, 0, 1,\n",
              "       1, 1, 1, 0, 1, 1, 0, 0, 0, 1, 1, 1, 0, 1, 1, 1, 1, 1, 0, 1, 1, 1,\n",
              "       1, 1, 1, 0, 0, 0, 0, 1, 0, 1, 1, 1, 1, 1, 0, 1, 1, 1, 1, 1, 0, 1,\n",
              "       1, 1, 0, 1, 1, 1, 0, 1, 1, 0, 1, 0, 0, 1, 0, 1, 0, 1, 0, 1, 0, 0,\n",
              "       0, 1, 0, 1, 1, 0, 0, 0, 1, 1, 1, 0, 1, 1, 0, 1, 1, 1, 0, 1, 1, 1,\n",
              "       1, 1, 1, 1, 0, 0, 1, 0, 1, 0, 1, 1, 1, 0, 1, 0, 0, 1, 1, 0, 1, 1,\n",
              "       1, 1, 1, 1, 1, 0, 1, 1, 1, 0, 0, 1, 0, 1, 1, 1, 0, 1, 1, 1, 1, 0,\n",
              "       0, 0, 1, 1, 0, 1, 1, 0, 0, 1, 0, 1, 1, 0, 1, 1, 0, 1, 1, 1, 1, 0,\n",
              "       1, 1, 0, 0, 1, 0, 0, 1, 1, 1, 1, 1, 1, 1, 0, 0, 1, 1, 0, 1, 1, 1,\n",
              "       1, 0, 1, 0, 0, 0, 0, 1, 0, 1, 0, 1, 1, 0, 1, 1, 1, 1, 1, 1, 1, 1,\n",
              "       1, 1, 1, 1, 1, 1, 0, 1, 1, 1, 1, 1, 0, 1, 0, 0, 1, 0, 1, 1, 0, 1,\n",
              "       1, 1, 1, 1, 1, 0, 1, 0, 1, 1, 0, 1, 1, 1, 1, 1, 1, 1, 1, 0, 0, 1,\n",
              "       0, 1, 0, 0, 1, 1, 1, 1, 0, 1, 1, 0, 1, 1, 1, 1, 0, 1, 0, 0, 1, 1,\n",
              "       1, 1, 0, 1, 1, 1, 1])"
            ]
          },
          "metadata": {},
          "execution_count": 12
        }
      ],
      "source": [
        "y_train_processed"
      ]
    },
    {
      "cell_type": "code",
      "execution_count": null,
      "id": "a593b8d9-a5b7-477d-989d-b4cf1aea3da0",
      "metadata": {
        "id": "a593b8d9-a5b7-477d-989d-b4cf1aea3da0"
      },
      "outputs": [],
      "source": [
        "from sklearn.preprocessing import OrdinalEncoder\n",
        "oe = OrdinalEncoder(categories = [x_train[i].unique() for i in obj_cols])\n",
        "oe.fit(x_train[obj_cols])\n",
        "x_train_cat_encoded = oe.transform(x_train[obj_cols])\n",
        "x_test_cat_encoded = oe.transform(x_test[obj_cols])"
      ]
    },
    {
      "cell_type": "code",
      "execution_count": null,
      "id": "275db9fa-51ae-4515-a531-ab642a400b8a",
      "metadata": {
        "colab": {
          "base_uri": "https://localhost:8080/"
        },
        "id": "275db9fa-51ae-4515-a531-ab642a400b8a",
        "outputId": "651054b3-4ca6-4688-e93d-fbfd0caa6200"
      },
      "outputs": [
        {
          "output_type": "execute_result",
          "data": {
            "text/plain": [
              "array([[0., 0., 0., 0., 0.],\n",
              "       [0., 1., 0., 0., 0.],\n",
              "       [0., 0., 0., 0., 0.],\n",
              "       ...,\n",
              "       [0., 0., 0., 0., 0.],\n",
              "       [0., 0., 0., 0., 0.],\n",
              "       [1., 1., 0., 0., 0.]])"
            ]
          },
          "metadata": {},
          "execution_count": 14
        }
      ],
      "source": [
        "x_train_cat_encoded"
      ]
    },
    {
      "cell_type": "code",
      "execution_count": null,
      "id": "dc100db6-d9c7-4aff-94b6-5f075384de2c",
      "metadata": {
        "id": "dc100db6-d9c7-4aff-94b6-5f075384de2c"
      },
      "outputs": [],
      "source": [
        "from sklearn.preprocessing import MinMaxScaler\n",
        "scaler = MinMaxScaler()\n",
        "scaler.fit(x_train[float_cols])\n",
        "\n",
        "x_train_float_encoded = scaler.transform(x_train[float_cols])\n",
        "x_test_float_encoded = scaler.transform(x_test[float_cols])"
      ]
    },
    {
      "cell_type": "code",
      "execution_count": null,
      "id": "08ad33ee-63b3-40c2-ad6f-e091123a7115",
      "metadata": {
        "colab": {
          "base_uri": "https://localhost:8080/"
        },
        "id": "08ad33ee-63b3-40c2-ad6f-e091123a7115",
        "outputId": "6ccdb534-4678-475c-a690-673267eb42a9"
      },
      "outputs": [
        {
          "output_type": "execute_result",
          "data": {
            "text/plain": [
              "array([[0.        , 1.        , 0.        , ..., 1.        , 0.70833333,\n",
              "        0.5       ],\n",
              "       [1.        , 1.        , 1.        , ..., 0.        , 1.        ,\n",
              "        0.8       ],\n",
              "       [1.        , 1.        , 0.        , ..., 1.        , 0.125     ,\n",
              "        0.7       ],\n",
              "       ...,\n",
              "       [1.        , 0.        , 1.        , ..., 0.        , 0.        ,\n",
              "        0.4       ],\n",
              "       [0.        , 1.        , 0.        , ..., 0.        , 0.75      ,\n",
              "        0.6       ],\n",
              "       [0.        , 0.        , 1.        , ..., 0.        , 0.5       ,\n",
              "        0.5       ]])"
            ]
          },
          "metadata": {},
          "execution_count": 16
        }
      ],
      "source": [
        "x_train_float_encoded"
      ]
    },
    {
      "cell_type": "code",
      "execution_count": null,
      "id": "d9e54b16-5955-4b3b-b24c-7af6e5265aeb",
      "metadata": {
        "id": "d9e54b16-5955-4b3b-b24c-7af6e5265aeb"
      },
      "outputs": [],
      "source": [
        "x_train_processed = np.hstack((x_train_cat_encoded, x_train_float_encoded))\n",
        "x_test_processed = np.hstack((x_test_cat_encoded, x_test_float_encoded))"
      ]
    },
    {
      "cell_type": "code",
      "execution_count": null,
      "id": "d8f0e9e4-dfa5-44d3-930c-a07b8b3a51e0",
      "metadata": {
        "id": "d8f0e9e4-dfa5-44d3-930c-a07b8b3a51e0"
      },
      "outputs": [],
      "source": [
        "feature_names = np.concatenate([obj_cols, float_cols])"
      ]
    },
    {
      "cell_type": "code",
      "execution_count": null,
      "id": "fcab9b97-39af-4a89-9387-d1966d29678d",
      "metadata": {
        "id": "fcab9b97-39af-4a89-9387-d1966d29678d"
      },
      "outputs": [],
      "source": [
        "x_train_final = pd.DataFrame(x_train_processed, columns = feature_names)"
      ]
    },
    {
      "cell_type": "code",
      "execution_count": null,
      "id": "2ffa8308-abfd-4fc0-8d27-ea6a20e4c980",
      "metadata": {
        "colab": {
          "base_uri": "https://localhost:8080/"
        },
        "id": "2ffa8308-abfd-4fc0-8d27-ea6a20e4c980",
        "outputId": "b935fa04-e8ba-4fef-db1e-550d36129209"
      },
      "outputs": [
        {
          "output_type": "stream",
          "name": "stdout",
          "text": [
            "1.0\n",
            "[[ 66   0]\n",
            " [  0 145]]\n"
          ]
        }
      ],
      "source": [
        "from sklearn.metrics import accuracy_score, confusion_matrix, classification_report\n",
        "from sklearn.linear_model import LogisticRegression\n",
        "lr = LogisticRegression()\n",
        "lr.fit(x_train_processed, y_train_processed)\n",
        "y_pred = lr.predict(x_test_processed)\n",
        "print(accuracy_score(y_test_processed, y_pred))\n",
        "print(confusion_matrix(y_test_processed, y_pred))"
      ]
    },
    {
      "cell_type": "code",
      "execution_count": null,
      "id": "b32898f1-d776-4463-8834-9b7013d22db3",
      "metadata": {
        "colab": {
          "base_uri": "https://localhost:8080/"
        },
        "id": "b32898f1-d776-4463-8834-9b7013d22db3",
        "outputId": "0974de4c-f27e-4f86-a37d-5d3403ff402f"
      },
      "outputs": [
        {
          "output_type": "execute_result",
          "data": {
            "text/plain": [
              "array(['No', 'Yes'], dtype=object)"
            ]
          },
          "metadata": {},
          "execution_count": 21
        }
      ],
      "source": [
        "le.inverse_transform([0,1])"
      ]
    },
    {
      "cell_type": "code",
      "execution_count": null,
      "id": "385d085f-da07-4f13-860a-c68b8877512f",
      "metadata": {
        "id": "385d085f-da07-4f13-860a-c68b8877512f"
      },
      "outputs": [],
      "source": [
        "df2 = pd.read_csv(r\"/content/Sample_Dataset.csv\")"
      ]
    },
    {
      "cell_type": "code",
      "execution_count": null,
      "id": "Q71RUc1qmBuo",
      "metadata": {
        "colab": {
          "base_uri": "https://localhost:8080/"
        },
        "id": "Q71RUc1qmBuo",
        "outputId": "4da6ba79-2d78-4396-bfb5-d3a9ff59a1a8"
      },
      "outputs": [
        {
          "output_type": "stream",
          "name": "stdout",
          "text": [
            "<class 'pandas.core.frame.DataFrame'>\n",
            "RangeIndex: 11 entries, 0 to 10\n",
            "Data columns (total 15 columns):\n",
            " #   Column                  Non-Null Count  Dtype  \n",
            "---  ------                  --------------  -----  \n",
            " 0   Case_No                 10 non-null     float64\n",
            " 1   Reaction_Time           10 non-null     float64\n",
            " 2   Accuracy_Rate           10 non-null     float64\n",
            " 3   Q1                      10 non-null     float64\n",
            " 4   Q3                      10 non-null     float64\n",
            " 5   Q5                      10 non-null     float64\n",
            " 6   Q7                      10 non-null     float64\n",
            " 7   Q9                      10 non-null     float64\n",
            " 8   Q10                     10 non-null     float64\n",
            " 9   Age in Months           11 non-null     int64  \n",
            " 10  Gender                  11 non-null     object \n",
            " 11  Region                  11 non-null     object \n",
            " 12  Jaundice                11 non-null     object \n",
            " 13  Family_mem_with_ASD     11 non-null     object \n",
            " 14  Who completed the test  11 non-null     object \n",
            "dtypes: float64(9), int64(1), object(5)\n",
            "memory usage: 1.4+ KB\n"
          ]
        }
      ],
      "source": [
        "df2.info()"
      ]
    },
    {
      "cell_type": "code",
      "execution_count": null,
      "id": "HlKNsmyNnyKD",
      "metadata": {
        "id": "HlKNsmyNnyKD"
      },
      "outputs": [],
      "source": [
        "def predict_q2(reaction_time, accuracy_rate):\n",
        "    return 1 if reaction_time >= 2500.0 and accuracy_rate < 70.0 else 0\n",
        "\n",
        "def predict_q4(reaction_time, accuracy_rate):\n",
        "    return 1 if reaction_time >= 2200.0 and accuracy_rate < 78.0 else 0\n",
        "\n",
        "def predict_q6(reaction_time, accuracy_rate):\n",
        "    return 1 if reaction_time >= 2000.0 and accuracy_rate < 75.0 else 0\n",
        "\n",
        "def predict_q8(reaction_time, accuracy_rate):\n",
        "    return 1 if reaction_time >= 1800.0 and accuracy_rate < 80.0 else 0"
      ]
    },
    {
      "cell_type": "code",
      "execution_count": null,
      "id": "Z82cLrwRn1td",
      "metadata": {
        "id": "Z82cLrwRn1td"
      },
      "outputs": [],
      "source": [
        "df2['Q2'] = df2.apply(lambda row: predict_q2(row['Reaction_Time'], row['Accuracy_Rate']), axis=1)\n",
        "df2['Q4'] = df2.apply(lambda row: predict_q4(row['Reaction_Time'], row['Accuracy_Rate']), axis=1)\n",
        "df2['Q6'] = df2.apply(lambda row: predict_q6(row['Reaction_Time'], row['Accuracy_Rate']), axis=1)\n",
        "df2['Q8'] = df2.apply(lambda row: predict_q8(row['Reaction_Time'], row['Accuracy_Rate']), axis=1)\n",
        "df2['Score out of 10'] = df2[['Q1', 'Q2', 'Q3', 'Q4', 'Q5', 'Q6', 'Q7', 'Q8', 'Q9', 'Q10']].sum(axis=1)"
      ]
    },
    {
      "cell_type": "code",
      "execution_count": null,
      "id": "472f7cf4-2d7d-4e49-bf45-b34b9e7d3691",
      "metadata": {
        "id": "472f7cf4-2d7d-4e49-bf45-b34b9e7d3691"
      },
      "outputs": [],
      "source": [
        "cols = ['Q1',  'Q3',  'Q5',  'Q7',  'Q9', 'Q10', 'Score out of 10']\n",
        "df2[cols] = df2[cols].applymap(np.int64)\n"
      ]
    },
    {
      "cell_type": "code",
      "source": [
        "df2.info()"
      ],
      "metadata": {
        "colab": {
          "base_uri": "https://localhost:8080/"
        },
        "id": "er9qMTzScs0g",
        "outputId": "0e1c7be4-c7b2-4a73-ab6d-4964a276f52e"
      },
      "id": "er9qMTzScs0g",
      "execution_count": null,
      "outputs": [
        {
          "output_type": "stream",
          "name": "stdout",
          "text": [
            "<class 'pandas.core.frame.DataFrame'>\n",
            "RangeIndex: 10 entries, 0 to 9\n",
            "Data columns (total 20 columns):\n",
            " #   Column                  Non-Null Count  Dtype  \n",
            "---  ------                  --------------  -----  \n",
            " 0   Case_No                 10 non-null     float64\n",
            " 1   Reaction_Time           10 non-null     float64\n",
            " 2   Accuracy_Rate           10 non-null     float64\n",
            " 3   Q1                      10 non-null     int64  \n",
            " 4   Q3                      10 non-null     int64  \n",
            " 5   Q5                      10 non-null     int64  \n",
            " 6   Q7                      10 non-null     int64  \n",
            " 7   Q9                      10 non-null     int64  \n",
            " 8   Q10                     10 non-null     int64  \n",
            " 9   Age in Months           10 non-null     int64  \n",
            " 10  Gender                  10 non-null     object \n",
            " 11  Region                  10 non-null     object \n",
            " 12  Jaundice                10 non-null     object \n",
            " 13  Family_mem_with_ASD     10 non-null     object \n",
            " 14  Who completed the test  10 non-null     object \n",
            " 15  Q2                      10 non-null     int64  \n",
            " 16  Q4                      10 non-null     int64  \n",
            " 17  Q6                      10 non-null     int64  \n",
            " 18  Q8                      10 non-null     int64  \n",
            " 19  Score out of 10         10 non-null     int64  \n",
            "dtypes: float64(3), int64(12), object(5)\n",
            "memory usage: 1.7+ KB\n"
          ]
        }
      ]
    },
    {
      "cell_type": "code",
      "source": [
        "X = df2.drop('Case_No' , axis = 1)\n",
        "X = df2.drop('Reaction_Time' , axis = 1)\n",
        "X = df2.drop('Accuracy_Rate' , axis = 1)"
      ],
      "metadata": {
        "id": "WE_tFD_4dAwd"
      },
      "id": "WE_tFD_4dAwd",
      "execution_count": null,
      "outputs": []
    },
    {
      "cell_type": "code",
      "execution_count": null,
      "id": "48f1e8f1-0e7f-4ac4-83a5-3315e478cb65",
      "metadata": {
        "id": "48f1e8f1-0e7f-4ac4-83a5-3315e478cb65",
        "colab": {
          "base_uri": "https://localhost:8080/"
        },
        "outputId": "d8802c2c-0c5b-4a0f-93fd-03e8981b9584"
      },
      "outputs": [
        {
          "output_type": "execute_result",
          "data": {
            "text/plain": [
              "Index(['Gender', 'Region', 'Jaundice', 'Family_mem_with_ASD',\n",
              "       'Who completed the test'],\n",
              "      dtype='object')"
            ]
          },
          "metadata": {},
          "execution_count": 46
        }
      ],
      "source": [
        "obj_cols2 = X.select_dtypes(include = 'object').columns\n",
        "obj_cols2"
      ]
    },
    {
      "cell_type": "code",
      "execution_count": null,
      "id": "729aff4b-5709-4b88-83d8-c978e8f33630",
      "metadata": {
        "id": "729aff4b-5709-4b88-83d8-c978e8f33630",
        "colab": {
          "base_uri": "https://localhost:8080/"
        },
        "outputId": "dc2a89e0-daa1-4bdd-cee2-4c0d68e5fad7"
      },
      "outputs": [
        {
          "output_type": "execute_result",
          "data": {
            "text/plain": [
              "Index(['Q1', 'Q3', 'Q5', 'Q7', 'Q9', 'Q10', 'Age in Months', 'Q2', 'Q4', 'Q6',\n",
              "       'Q8', 'Score out of 10'],\n",
              "      dtype='object')"
            ]
          },
          "metadata": {},
          "execution_count": 47
        }
      ],
      "source": [
        "float_cols2 = X.select_dtypes(include = 'int64').columns\n",
        "float_cols2"
      ]
    },
    {
      "cell_type": "code",
      "execution_count": null,
      "id": "164c529f-6b32-4627-ae9c-ac53d2b9aeb4",
      "metadata": {
        "id": "164c529f-6b32-4627-ae9c-ac53d2b9aeb4"
      },
      "outputs": [],
      "source": [
        "from sklearn.preprocessing import OrdinalEncoder\n",
        "oe = OrdinalEncoder(categories = [X[i].unique() for i in obj_cols2])\n",
        "oe.fit(X[obj_cols2])\n",
        "X_cat_encoded = oe.transform(X[obj_cols2])"
      ]
    },
    {
      "cell_type": "code",
      "execution_count": null,
      "id": "cb1051f8-5e8d-4140-b48f-bc1d8fdfaf74",
      "metadata": {
        "id": "cb1051f8-5e8d-4140-b48f-bc1d8fdfaf74",
        "colab": {
          "base_uri": "https://localhost:8080/"
        },
        "outputId": "fc11ef22-3e55-40a1-a33b-4d94de191314"
      },
      "outputs": [
        {
          "output_type": "execute_result",
          "data": {
            "text/plain": [
              "array([[0., 0., 0., 0., 0.],\n",
              "       [1., 1., 1., 0., 0.],\n",
              "       [0., 1., 1., 0., 0.],\n",
              "       [1., 0., 0., 1., 0.],\n",
              "       [1., 1., 1., 1., 0.],\n",
              "       [0., 1., 1., 1., 0.],\n",
              "       [1., 1., 1., 1., 0.],\n",
              "       [0., 0., 1., 1., 0.],\n",
              "       [1., 1., 0., 2., 0.],\n",
              "       [0., 0., 1., 1., 0.]])"
            ]
          },
          "metadata": {},
          "execution_count": 49
        }
      ],
      "source": [
        "X_cat_encoded"
      ]
    },
    {
      "cell_type": "code",
      "execution_count": null,
      "id": "4ea836ae-9758-4816-acf2-a855e119f9d9",
      "metadata": {
        "id": "4ea836ae-9758-4816-acf2-a855e119f9d9"
      },
      "outputs": [],
      "source": [
        "from sklearn.preprocessing import MinMaxScaler\n",
        "scaler = MinMaxScaler()\n",
        "scaler.fit(X[float_cols2])\n",
        "\n",
        "X_float_encoded = scaler.transform(X[float_cols2])"
      ]
    },
    {
      "cell_type": "code",
      "execution_count": null,
      "id": "d4489051-a1a0-49ec-a6c9-3de70d49e29c",
      "metadata": {
        "id": "d4489051-a1a0-49ec-a6c9-3de70d49e29c"
      },
      "outputs": [],
      "source": [
        "X_processed = np.hstack((X_cat_encoded, X_float_encoded))"
      ]
    },
    {
      "cell_type": "code",
      "execution_count": null,
      "id": "f003222f-6935-4e98-839b-70c6f34677b5",
      "metadata": {
        "id": "f003222f-6935-4e98-839b-70c6f34677b5"
      },
      "outputs": [],
      "source": [
        "feature_names2 = np.concatenate([obj_cols2, float_cols2])"
      ]
    },
    {
      "cell_type": "code",
      "execution_count": null,
      "id": "7493c24c-a66d-47ca-b32f-437e82f5b5b8",
      "metadata": {
        "id": "7493c24c-a66d-47ca-b32f-437e82f5b5b8"
      },
      "outputs": [],
      "source": [
        "X_final = pd.DataFrame(X_processed, columns = feature_names2)"
      ]
    },
    {
      "cell_type": "code",
      "execution_count": null,
      "id": "ac3c0c4c-ab05-4a78-9b21-e8e894018e9e",
      "metadata": {
        "id": "ac3c0c4c-ab05-4a78-9b21-e8e894018e9e"
      },
      "outputs": [],
      "source": [
        "from sklearn.metrics import accuracy_score, confusion_matrix, classification_report\n",
        "from sklearn.linear_model import LogisticRegression\n",
        "lr = LogisticRegression()\n",
        "lr.fit(x_train_processed, y_train_processed)\n",
        "y_pred = lr.predict(X_processed)"
      ]
    },
    {
      "cell_type": "code",
      "execution_count": null,
      "id": "79195c1c-d3bb-4e90-b737-3f95341080f7",
      "metadata": {
        "id": "79195c1c-d3bb-4e90-b737-3f95341080f7",
        "colab": {
          "base_uri": "https://localhost:8080/"
        },
        "outputId": "b614f2f8-bf00-41d4-c4c0-cdea56ad79dd"
      },
      "outputs": [
        {
          "output_type": "stream",
          "name": "stdout",
          "text": [
            "ASD Possible :  [0 1 0 0 0 1 0 1 0 1]\n"
          ]
        }
      ],
      "source": [
        "print(\"ASD Possible : \", y_pred)"
      ]
    },
    {
      "cell_type": "code",
      "source": [
        "import csv"
      ],
      "metadata": {
        "id": "PActUrg_erZX"
      },
      "id": "PActUrg_erZX",
      "execution_count": null,
      "outputs": []
    },
    {
      "cell_type": "code",
      "source": [
        "cases = list(range(1, len(y_pred) + 1))\n",
        "predictions = [{'Case': i, 'ASD_Present': \"Chances\" if pred == 1 else \"No\"} for i, pred in zip(cases, y_pred)]"
      ],
      "metadata": {
        "id": "cPCOwZhqew46"
      },
      "id": "cPCOwZhqew46",
      "execution_count": null,
      "outputs": []
    },
    {
      "cell_type": "code",
      "source": [
        "csv_file = 'predictions.csv'"
      ],
      "metadata": {
        "id": "gr1zLO8NezXm"
      },
      "id": "gr1zLO8NezXm",
      "execution_count": null,
      "outputs": []
    },
    {
      "cell_type": "code",
      "source": [
        "with open(csv_file, 'w', newline='') as file:\n",
        "    writer = csv.DictWriter(file, fieldnames=['Case', 'ASD_Present'])\n",
        "    writer.writeheader()\n",
        "    writer.writerows(predictions)"
      ],
      "metadata": {
        "id": "XiyxHZnAe1Y6"
      },
      "id": "XiyxHZnAe1Y6",
      "execution_count": null,
      "outputs": []
    },
    {
      "cell_type": "code",
      "source": [
        "print(f\"Predictions saved to '{csv_file}' successfully.\")"
      ],
      "metadata": {
        "colab": {
          "base_uri": "https://localhost:8080/"
        },
        "id": "OoUw_ijse3u-",
        "outputId": "36f6a83d-4bf7-41c3-db97-e5e61248d2f7"
      },
      "id": "OoUw_ijse3u-",
      "execution_count": null,
      "outputs": [
        {
          "output_type": "stream",
          "name": "stdout",
          "text": [
            "Predictions saved to 'predictions.csv' successfully.\n"
          ]
        }
      ]
    },
    {
      "cell_type": "code",
      "source": [
        "df2['ASD_Prediction'] = y_pred"
      ],
      "metadata": {
        "id": "kAmL2nVDjXrE"
      },
      "id": "kAmL2nVDjXrE",
      "execution_count": 65,
      "outputs": []
    },
    {
      "cell_type": "code",
      "source": [
        "asd_present = df2[df2['ASD_Prediction'] == 1]\n",
        "asd_not_present = df2[df2['ASD_Prediction'] == 0]"
      ],
      "metadata": {
        "id": "ccVLa6LPj5wh"
      },
      "id": "ccVLa6LPj5wh",
      "execution_count": 66,
      "outputs": []
    },
    {
      "cell_type": "code",
      "source": [
        "plt.figure(figsize=(10, 6))\n",
        "sns.scatterplot(x='Reaction_Time', y='Accuracy_Rate', data=asd_not_present, color='blue', label='No ASD', s=100)\n",
        "sns.scatterplot(x='Reaction_Time', y='Accuracy_Rate', data=asd_present, color='red', label='ASD', s=100)\n",
        "\n",
        "plt.title('Reaction Time vs Accuracy Rate by Predicted ASD')\n",
        "plt.xlabel('Reaction Time')\n",
        "plt.ylabel('Accuracy Rate')\n",
        "plt.legend(title='ASD Prediction')\n",
        "\n",
        "plt.grid(True)\n",
        "plt.tight_layout()\n",
        "plt.show()"
      ],
      "metadata": {
        "colab": {
          "base_uri": "https://localhost:8080/",
          "height": 528
        },
        "id": "oJnUoKBEj80x",
        "outputId": "01732e73-d025-4cbf-edca-a1d1fdfccd30"
      },
      "id": "oJnUoKBEj80x",
      "execution_count": 68,
      "outputs": [
        {
          "output_type": "display_data",
          "data": {
            "text/plain": [
              "<Figure size 1000x600 with 1 Axes>"
            ],
            "image/png": "[encoded data removed]"
          },
          "metadata": {}
        }
      ]
    },
    {
      "cell_type": "code",
      "source": [],
      "metadata": {
        "id": "AlvnWCNzkRrk"
      },
      "id": "AlvnWCNzkRrk",
      "execution_count": 69,
      "outputs": []
    }
  ],
  "metadata": {
    "colab": {
      "provenance": []
    },
    "kernelspec": {
      "display_name": "Python 3 (ipykernel)",
      "language": "python",
      "name": "python3"
    },
    "language_info": {
      "codemirror_mode": {
        "name": "ipython",
        "version": 3
      },
      "file_extension": ".py",
      "mimetype": "text/x-python",
      "name": "python",
      "nbconvert_exporter": "python",
      "pygments_lexer": "ipython3",
      "version": "3.10.11"
    }
  },
  "nbformat": 4,
  "nbformat_minor": 5
}